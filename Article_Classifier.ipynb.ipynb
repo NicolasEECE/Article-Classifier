{
  "cells": [
    {
      "cell_type": "code",
      "execution_count": 3,
      "id": "f4f22f6c-aeff-43ff-9a2e-f0dd042dd74b",
      "metadata": {
        "colab": {
          "base_uri": "https://localhost:8080/"
        },
        "id": "f4f22f6c-aeff-43ff-9a2e-f0dd042dd74b",
        "outputId": "db802d92-ef95-4270-ab00-ede4ae7436c4"
      },
      "outputs": [
        {
          "output_type": "stream",
          "name": "stdout",
          "text": [
            "Mon May 12 15:26:33 2025       \n",
            "+-----------------------------------------------------------------------------------------+\n",
            "| NVIDIA-SMI 550.54.15              Driver Version: 550.54.15      CUDA Version: 12.4     |\n",
            "|-----------------------------------------+------------------------+----------------------+\n",
            "| GPU  Name                 Persistence-M | Bus-Id          Disp.A | Volatile Uncorr. ECC |\n",
            "| Fan  Temp   Perf          Pwr:Usage/Cap |           Memory-Usage | GPU-Util  Compute M. |\n",
            "|                                         |                        |               MIG M. |\n",
            "|=========================================+========================+======================|\n",
            "|   0  Tesla T4                       Off |   00000000:00:04.0 Off |                    0 |\n",
            "| N/A   37C    P8              9W /   70W |       0MiB /  15360MiB |      0%      Default |\n",
            "|                                         |                        |                  N/A |\n",
            "+-----------------------------------------+------------------------+----------------------+\n",
            "                                                                                         \n",
            "+-----------------------------------------------------------------------------------------+\n",
            "| Processes:                                                                              |\n",
            "|  GPU   GI   CI        PID   Type   Process name                              GPU Memory |\n",
            "|        ID   ID                                                               Usage      |\n",
            "|=========================================================================================|\n",
            "|  No running processes found                                                             |\n",
            "+-----------------------------------------------------------------------------------------+\n"
          ]
        }
      ],
      "source": [
        "# test GPU function (e.g., for Google Colab)\n",
        "gpu_info = !nvidia-smi\n",
        "gpu_info = '\\n'.join(gpu_info)\n",
        "if gpu_info.find('failed') >= 0:\n",
        "  print('Not connected to a GPU')\n",
        "else:\n",
        "  print(gpu_info)"
      ]
    },
    {
      "cell_type": "code",
      "execution_count": 4,
      "id": "cc0c9ea3-d342-4efc-bb41-7e2e3a819356",
      "metadata": {
        "id": "cc0c9ea3-d342-4efc-bb41-7e2e3a819356"
      },
      "outputs": [],
      "source": [
        "import tensorflow as tf\n",
        "from tensorflow.keras.layers import TextVectorization, Embedding, MultiHeadAttention, LSTM, Conv1D, Dense, GlobalAveragePooling1D, Input, Dropout\n",
        "from tensorflow.keras.models import Model\n",
        "from tensorflow.keras.optimizers import Adam\n",
        "from sklearn.model_selection import train_test_split, GridSearchCV, KFold\n",
        "from transformers import AutoTokenizer\n",
        "from sklearn.metrics import accuracy_score\n",
        "from tensorflow.keras.callbacks import ReduceLROnPlateau\n",
        "import torch\n",
        "import pandas as pd\n",
        "import numpy as np"
      ]
    },
    {
      "cell_type": "code",
      "execution_count": 5,
      "id": "lpjwhm3GdpXv",
      "metadata": {
        "colab": {
          "base_uri": "https://localhost:8080/"
        },
        "id": "lpjwhm3GdpXv",
        "outputId": "3ea58de1-5e64-4cd3-fd9e-a881d41355f6"
      },
      "outputs": [
        {
          "output_type": "stream",
          "name": "stdout",
          "text": [
            "Mounted at /content/drive\n"
          ]
        }
      ],
      "source": [
        "#mounting on g drive\n",
        "from google.colab import drive\n",
        "drive.mount('/content/drive')"
      ]
    },
    {
      "cell_type": "markdown",
      "id": "d22e78f0-fd20-40f9-ad0d-0149f5d6b38d",
      "metadata": {
        "id": "d22e78f0-fd20-40f9-ad0d-0149f5d6b38d"
      },
      "source": [
        "## Challenge 1: 20 Newsgroups\n",
        "\n",
        "You are provided with training data from the 20 Newsgroups dataset, which consists of forum posts covering a wide range of topics. These posts originate from 20 distinct forums. Your task is to develop a classifier that takes a given post as input and predicts the forum from which it originated.\n",
        "\n",
        "To simplify the task — given that some forums are highly similar — we have grouped the 20 forums into 6 broader categories. Your classifier will be evaluated based on its accuracy in predicting these 6 categories. However, you are encouraged to make use of the full 20-category dataset for training purposes if you wish.\n",
        "\n",
        "Finally, we will ask you to show the process you used to develop your classifier. Do not train your model on the evaluation dataset, as this is cheating."
      ]
    },
    {
      "cell_type": "markdown",
      "id": "2ff20de3-9633-4f26-8de2-1e368ecf9c15",
      "metadata": {
        "id": "2ff20de3-9633-4f26-8de2-1e368ecf9c15"
      },
      "source": [
        "### The Dataset"
      ]
    },
    {
      "cell_type": "code",
      "execution_count": 6,
      "id": "e16f6d0f-affd-4255-b0f6-b36b8ccd3fdb",
      "metadata": {
        "id": "e16f6d0f-affd-4255-b0f6-b36b8ccd3fdb"
      },
      "outputs": [],
      "source": [
        "#here we are loading the dataset that was given, \"twentyngd\" is the variable thats holding our dataset\n",
        "#libes\n",
        "twentyngdf = pd.read_json('/content/drive/My Drive/Dataset/train.jsonl', lines = True)\n",
        "twentyngdf\n",
        "test_df = pd.read_json('/content/drive/My Drive/Dataset/test.jsonl', lines=True)"
      ]
    },
    {
      "cell_type": "markdown",
      "id": "4e6888e0-f042-4b53-aff8-6ced055c8748",
      "metadata": {
        "id": "4e6888e0-f042-4b53-aff8-6ced055c8748"
      },
      "source": [
        "### Grouping the Forums\n",
        "\n",
        "As said, you do not need to map the post to its exact forum but only which super group the post belongs to. Below you find the mapping in the form of a callable object."
      ]
    },
    {
      "cell_type": "code",
      "execution_count": 7,
      "id": "e81476f8-36bd-4441-8ead-9c98afbfb1b8",
      "metadata": {
        "id": "e81476f8-36bd-4441-8ead-9c98afbfb1b8"
      },
      "outputs": [],
      "source": [
        "class Grouping_NewsForums():\n",
        "    def __init__(self):\n",
        "        self.grouping = {\n",
        "            0 : 0,\n",
        "            1 : 1,\n",
        "            2 : 1,\n",
        "            3 : 1,\n",
        "            4 : 1,\n",
        "            5 : 1,\n",
        "            6 : 2,\n",
        "            7 : 3,\n",
        "            8 : 3,\n",
        "            9 : 3,\n",
        "            10 : 3,\n",
        "            11 : 4,\n",
        "            12 : 4,\n",
        "            13 : 4,\n",
        "            14 : 4,\n",
        "            15 : 0,\n",
        "            16 : 5,\n",
        "            17 : 5,\n",
        "            18 : 5,\n",
        "            19 : 5,\n",
        "        }\n",
        "    def __call__(self, x):\n",
        "        return self.grouping[x]\n",
        "\n",
        "# Load the dataframe\n",
        "twentyngdf = pd.read_json('/content/drive/My Drive/Dataset/train.jsonl', lines=True)\n",
        "\n",
        "# Split data into training and validation sets\n",
        "X_train, X_val, y_train, y_val = train_test_split(\n",
        "    twentyngdf['text'], twentyngdf['label'], test_size=0.2, random_state=42\n",
        ")\n",
        "\n",
        "# Now you can use y_train and y_val\n",
        "grouping = Grouping_NewsForums()\n",
        "grouped_y_train = [grouping(label) for label in y_train]\n",
        "grouped_y_val = [grouping(label) for label in y_val]\n",
        "grouped_y_test = [grouping(label) for label in test_df['label']]\n"
      ]
    },
    {
      "cell_type": "markdown",
      "id": "dd4fe209-f863-4751-a6af-61eef40e7dd5",
      "metadata": {
        "id": "dd4fe209-f863-4751-a6af-61eef40e7dd5"
      },
      "source": [
        "### Number to Forum Name\n",
        "\n",
        "We provide this utility function to help you easily recall the meaning of each category label—especially if, like me, you find it hard to remember the category numbers."
      ]
    },
    {
      "cell_type": "code",
      "execution_count": 8,
      "id": "db7261ed-47d1-408c-9237-e900a58cd968",
      "metadata": {
        "id": "db7261ed-47d1-408c-9237-e900a58cd968"
      },
      "outputs": [],
      "source": [
        "label_names = ['alt.atheism',\n",
        "               'comp.graphics',\n",
        "               'comp.os.ms-windows.misc',\n",
        "               'comp.sys.ibm.pc.hardware',\n",
        "               'comp.sys.mac.hardware',\n",
        "               'comp.windows.x',\n",
        "               'misc.forsale',\n",
        "               'rec.autos',\n",
        "               'rec.motorcycles',\n",
        "               'rec.sport.baseball',\n",
        "               'rec.sport.hockey',\n",
        "               'sci.crypt',\n",
        "               'sci.electronics',\n",
        "               'sci.med',\n",
        "               'sci.space',\n",
        "               'soc.religion.christian',\n",
        "               'talk.politics.guns',\n",
        "               'talk.politics.mideast',\n",
        "               'talk.politics.misc',\n",
        "               'talk.religion.misc']\n",
        "\n",
        "label_convertion_dict = {}\n",
        "for i in range(len(label_names)):\n",
        "    label_convertion_dict[i] = label_names[i]\n",
        "    label_convertion_dict[label_names[i]] = i\n",
        "\n",
        "def label_convertion(label):\n",
        "    return label_convertion_dict[label]"
      ]
    },
    {
      "cell_type": "markdown",
      "id": "2d60c86c-480d-4dcf-8a09-94fb9e8d39ee",
      "metadata": {
        "id": "2d60c86c-480d-4dcf-8a09-94fb9e8d39ee"
      },
      "source": [
        "### Let's go, good luck!!"
      ]
    },
    {
      "cell_type": "code",
      "execution_count": 9,
      "id": "13e94779-e911-45b0-b8d2-211d26394873",
      "metadata": {
        "id": "13e94779-e911-45b0-b8d2-211d26394873",
        "colab": {
          "base_uri": "https://localhost:8080/",
          "height": 274,
          "referenced_widgets": [
            "d25d586160b347b0b53ef95f50d95ab0",
            "d646326ef7a742589f4bb546219e9e48",
            "270da9379626486dac0f8a4b2037c670",
            "b04548714695464996ef52579938f74c",
            "9daada2cbd32471fa17e888d342f97ee",
            "ff72a2b8081844b6b1f46fc6a22a645e",
            "50cc9b9d53b14cc2908abf5aa6959e65",
            "c2fa45148cb64a4280426a552b7972be",
            "2b058b62a80a456ea1c96e637e3e73be",
            "912a5b34b29f448da83f2d35232424ef",
            "724b188cc00c4af3ba1dca1d2ddcdb7a",
            "69c12bd798394e03bc2c367eb2047451",
            "3657048c77164184a53ccfe7bbfa893e",
            "39170a172ac94208aec9b7ee2046cbbf",
            "972351e07acf48658d5b8e3f839068b5",
            "ce88a1df560948ed92c57e3ab0250407",
            "cedc2f196d4949e3a53cc007f8c30b6a",
            "03b8b839fbc74f80af96d66875ebe146",
            "37c31075372447bfa4d7541fc0e88940",
            "5c84f30739114235b544bec5d8e199e0",
            "487bb3caa0614ba8a1df79d8edcbb62f",
            "9b66ed76f2864ba39504bdefa0b6b36e",
            "012bf0db4ccf4eebad232687d85c769c",
            "d2534a19842043688f1b29151ec3a787",
            "8ca3a5c5f61b4ee5957400326b16e8bf",
            "f6334d69b7b4497489345c6cc9f6903d",
            "71f833c6de4b4b64980533b524e4f9b1",
            "54d7c8465eb44e869ef07bff584e8d80",
            "9ac9435cae8745829ff4f45f8abc42cf",
            "7bf2c9662f04481d94873f000b21021e",
            "613e91f4f4404b61931d2e046064cef1",
            "af1951ea23d243d3b7169c608d1e246b",
            "545faf04ef1a46e9a86492b80fe69b27",
            "766d8e939bd74fc3b702a1109020a220",
            "60a12e70e9cb424badf1e5946ad59ac2",
            "e1c2b4f332764cdb8d43d526579085ff",
            "c85a48b8fb904d33893f63064625d9fd",
            "48af0574905e4f5a8311edc791bf2135",
            "e2f56a2212ca4eccb759efe210b54ce4",
            "1df00f0a5edc45ce9766c52a091bbff0",
            "7c1adb1a20cb443f85edef871f6ca734",
            "95b7f8bc60d34bf7954c399a3b29baba",
            "b0721437282049c59ba5983f99696b10",
            "3790655c3d9b464cad90f7bc98be4d3c"
          ]
        },
        "outputId": "26e55c48-3b8b-4b5a-9c67-2c9f656db8d0"
      },
      "outputs": [
        {
          "output_type": "stream",
          "name": "stderr",
          "text": [
            "/usr/local/lib/python3.11/dist-packages/huggingface_hub/utils/_auth.py:94: UserWarning: \n",
            "The secret `HF_TOKEN` does not exist in your Colab secrets.\n",
            "To authenticate with the Hugging Face Hub, create a token in your settings tab (https://huggingface.co/settings/tokens), set it as secret in your Google Colab and restart your session.\n",
            "You will be able to reuse this secret in all of your notebooks.\n",
            "Please note that authentication is recommended but still optional to access public models or datasets.\n",
            "  warnings.warn(\n"
          ]
        },
        {
          "output_type": "display_data",
          "data": {
            "text/plain": [
              "tokenizer_config.json:   0%|          | 0.00/48.0 [00:00<?, ?B/s]"
            ],
            "application/vnd.jupyter.widget-view+json": {
              "version_major": 2,
              "version_minor": 0,
              "model_id": "d25d586160b347b0b53ef95f50d95ab0"
            }
          },
          "metadata": {}
        },
        {
          "output_type": "display_data",
          "data": {
            "text/plain": [
              "config.json:   0%|          | 0.00/570 [00:00<?, ?B/s]"
            ],
            "application/vnd.jupyter.widget-view+json": {
              "version_major": 2,
              "version_minor": 0,
              "model_id": "69c12bd798394e03bc2c367eb2047451"
            }
          },
          "metadata": {}
        },
        {
          "output_type": "display_data",
          "data": {
            "text/plain": [
              "vocab.txt:   0%|          | 0.00/232k [00:00<?, ?B/s]"
            ],
            "application/vnd.jupyter.widget-view+json": {
              "version_major": 2,
              "version_minor": 0,
              "model_id": "012bf0db4ccf4eebad232687d85c769c"
            }
          },
          "metadata": {}
        },
        {
          "output_type": "display_data",
          "data": {
            "text/plain": [
              "tokenizer.json:   0%|          | 0.00/466k [00:00<?, ?B/s]"
            ],
            "application/vnd.jupyter.widget-view+json": {
              "version_major": 2,
              "version_minor": 0,
              "model_id": "766d8e939bd74fc3b702a1109020a220"
            }
          },
          "metadata": {}
        }
      ],
      "source": [
        "# Tokenization\n",
        "# Load the BERT tokenizer\n",
        "tokenizer = AutoTokenizer.from_pretrained('bert-base-uncased')\n",
        "\n",
        "# Load the dataframe\n",
        "twentyngdf = pd.read_json('/content/drive/My Drive/Dataset/train.jsonl', lines=True)\n",
        "\n",
        "# Tokenize the text data\n",
        "def tokenize_function(text):\n",
        "    return tokenizer(text, padding=\"max_length\", truncation=True, max_length=100, return_tensors=\"tf\")\n",
        "\n",
        "X_train, X_val, y_train, y_val = train_test_split(\n",
        "    twentyngdf['text'], twentyngdf['label'], test_size=0.2, random_state=42\n",
        ")\n",
        "\n",
        "X_test_vec = [tokenize_function(text) for text in test_df['text']]\n",
        "X_test_input_ids = tf.stack([x['input_ids'][0] for x in X_test_vec], axis=0)\n",
        "\n",
        "# Apply tokenization to the dataset\n",
        "X_train_vec = [tokenize_function(text) for text in X_train]\n",
        "X_val_vec = [tokenize_function(text) for text in X_val]\n"
      ]
    },
    {
      "cell_type": "code",
      "execution_count": 10,
      "id": "ZPS_07Cwmkod",
      "metadata": {
        "colab": {
          "base_uri": "https://localhost:8080/"
        },
        "id": "ZPS_07Cwmkod",
        "outputId": "dccde3c9-907b-4842-981d-81d157c45602"
      },
      "outputs": [
        {
          "output_type": "stream",
          "name": "stdout",
          "text": [
            "(100, 100)\n"
          ]
        }
      ],
      "source": [
        "# Create Embedding Layer\n",
        "# Define vocabulary size and embedding dimension\n",
        "vocab_size = tokenizer.vocab_size  # BERT's vocabulary size\n",
        "embedding_dim = 100  # Max words considered at input\n",
        "\n",
        "# Create the embedding layer\n",
        "embedding_layer = Embedding(input_dim=vocab_size, output_dim=embedding_dim)\n",
        "\n",
        "# Get token IDs from the first tokenized sample in X_train_vec\n",
        "# Extract token IDs from the 'input_ids' field\n",
        "token_ids = X_train_vec[0]['input_ids'].numpy().flatten().tolist()\n",
        "\n",
        "# Convert to TensorFlow tensor\n",
        "token_ids_tensor = tf.constant(token_ids, dtype=tf.int32)\n",
        "\n",
        "# Get embeddings for the token IDs\n",
        "embedded = embedding_layer(token_ids_tensor)\n",
        "\n",
        "print(embedded.shape)"
      ]
    },
    {
      "cell_type": "code",
      "source": [
        "!pip install --upgrade scikit-learn\n"
      ],
      "metadata": {
        "colab": {
          "base_uri": "https://localhost:8080/"
        },
        "id": "-ZAAp0qxgnrV",
        "outputId": "f31724e1-2b98-4a47-b20f-bec7650f28e1"
      },
      "id": "-ZAAp0qxgnrV",
      "execution_count": 11,
      "outputs": [
        {
          "output_type": "stream",
          "name": "stdout",
          "text": [
            "Requirement already satisfied: scikit-learn in /usr/local/lib/python3.11/dist-packages (1.6.1)\n",
            "Requirement already satisfied: numpy>=1.19.5 in /usr/local/lib/python3.11/dist-packages (from scikit-learn) (2.0.2)\n",
            "Requirement already satisfied: scipy>=1.6.0 in /usr/local/lib/python3.11/dist-packages (from scikit-learn) (1.15.2)\n",
            "Requirement already satisfied: joblib>=1.2.0 in /usr/local/lib/python3.11/dist-packages (from scikit-learn) (1.4.2)\n",
            "Requirement already satisfied: threadpoolctl>=3.1.0 in /usr/local/lib/python3.11/dist-packages (from scikit-learn) (3.6.0)\n"
          ]
        }
      ]
    },
    {
      "cell_type": "code",
      "execution_count": 12,
      "id": "dc0IAZfRqj7I",
      "metadata": {
        "id": "dc0IAZfRqj7I"
      },
      "outputs": [],
      "source": [
        "#Attention\n",
        "def attention_model():\n",
        "    input_layer = Input(shape=(100,), dtype=tf.int32)  # Input shape matches tokenized output\n",
        "    embeddings = embedding_layer(input_layer)\n",
        "    attention_output = MultiHeadAttention(num_heads=8, key_dim=embedding_dim)(embeddings, embeddings)\n",
        "    pooled_output = GlobalAveragePooling1D()(attention_output)\n",
        "    output_layer = Dense(6, activation='softmax')(pooled_output)  # 6 output classes\n",
        "    model = Model(inputs=input_layer, outputs=output_layer)\n",
        "    return model"
      ]
    },
    {
      "cell_type": "code",
      "execution_count": 13,
      "id": "bwF-uZaly1LE",
      "metadata": {
        "id": "bwF-uZaly1LE"
      },
      "outputs": [],
      "source": [
        "#Compile and Train\n",
        "model = attention_model()\n",
        "model.compile(optimizer=Adam(learning_rate=0.0005), loss='sparse_categorical_crossentropy', metrics=['accuracy'])\n",
        "#Adjustable learning rate"
      ]
    },
    {
      "cell_type": "code",
      "execution_count": 20,
      "id": "s2bxoWfYy7KH",
      "metadata": {
        "colab": {
          "base_uri": "https://localhost:8080/"
        },
        "id": "s2bxoWfYy7KH",
        "outputId": "7b010a14-9b76-41ab-860c-0abe21dd2784",
        "collapsed": true
      },
      "outputs": [
        {
          "output_type": "stream",
          "name": "stdout",
          "text": [
            "Epoch 1/10\n",
            "\u001b[1m142/142\u001b[0m \u001b[32m━━━━━━━━━━━━━━━━━━━━\u001b[0m\u001b[37m\u001b[0m \u001b[1m2s\u001b[0m 17ms/step - accuracy: 0.9762 - loss: 0.0614 - val_accuracy: 0.7777 - val_loss: 0.9736 - learning_rate: 1.0000e-05\n",
            "Epoch 2/10\n",
            "\u001b[1m142/142\u001b[0m \u001b[32m━━━━━━━━━━━━━━━━━━━━\u001b[0m\u001b[37m\u001b[0m \u001b[1m3s\u001b[0m 20ms/step - accuracy: 0.9784 - loss: 0.0562 - val_accuracy: 0.7777 - val_loss: 0.9773 - learning_rate: 1.0000e-05\n",
            "Epoch 3/10\n",
            "\u001b[1m142/142\u001b[0m \u001b[32m━━━━━━━━━━━━━━━━━━━━\u001b[0m\u001b[37m\u001b[0m \u001b[1m5s\u001b[0m 17ms/step - accuracy: 0.9773 - loss: 0.0603 - val_accuracy: 0.7777 - val_loss: 0.9819 - learning_rate: 1.0000e-05\n",
            "Epoch 4/10\n",
            "\u001b[1m142/142\u001b[0m \u001b[32m━━━━━━━━━━━━━━━━━━━━\u001b[0m\u001b[37m\u001b[0m \u001b[1m2s\u001b[0m 14ms/step - accuracy: 0.9763 - loss: 0.0634 - val_accuracy: 0.7786 - val_loss: 0.9867 - learning_rate: 1.0000e-05\n",
            "Epoch 5/10\n",
            "\u001b[1m142/142\u001b[0m \u001b[32m━━━━━━━━━━━━━━━━━━━━\u001b[0m\u001b[37m\u001b[0m \u001b[1m2s\u001b[0m 14ms/step - accuracy: 0.9772 - loss: 0.0588 - val_accuracy: 0.7777 - val_loss: 0.9914 - learning_rate: 1.0000e-05\n",
            "Epoch 6/10\n",
            "\u001b[1m142/142\u001b[0m \u001b[32m━━━━━━━━━━━━━━━━━━━━\u001b[0m\u001b[37m\u001b[0m \u001b[1m3s\u001b[0m 14ms/step - accuracy: 0.9741 - loss: 0.0624 - val_accuracy: 0.7773 - val_loss: 0.9957 - learning_rate: 1.0000e-05\n",
            "Epoch 7/10\n",
            "\u001b[1m142/142\u001b[0m \u001b[32m━━━━━━━━━━━━━━━━━━━━\u001b[0m\u001b[37m\u001b[0m \u001b[1m2s\u001b[0m 16ms/step - accuracy: 0.9763 - loss: 0.0599 - val_accuracy: 0.7777 - val_loss: 1.0015 - learning_rate: 1.0000e-05\n",
            "Epoch 8/10\n",
            "\u001b[1m142/142\u001b[0m \u001b[32m━━━━━━━━━━━━━━━━━━━━\u001b[0m\u001b[37m\u001b[0m \u001b[1m2s\u001b[0m 15ms/step - accuracy: 0.9769 - loss: 0.0590 - val_accuracy: 0.7782 - val_loss: 1.0069 - learning_rate: 1.0000e-05\n",
            "Epoch 9/10\n",
            "\u001b[1m142/142\u001b[0m \u001b[32m━━━━━━━━━━━━━━━━━━━━\u001b[0m\u001b[37m\u001b[0m \u001b[1m3s\u001b[0m 15ms/step - accuracy: 0.9768 - loss: 0.0554 - val_accuracy: 0.7791 - val_loss: 1.0121 - learning_rate: 1.0000e-05\n",
            "Epoch 10/10\n",
            "\u001b[1m142/142\u001b[0m \u001b[32m━━━━━━━━━━━━━━━━━━━━\u001b[0m\u001b[37m\u001b[0m \u001b[1m3s\u001b[0m 15ms/step - accuracy: 0.9786 - loss: 0.0561 - val_accuracy: 0.7777 - val_loss: 1.0184 - learning_rate: 1.0000e-05\n"
          ]
        }
      ],
      "source": [
        "#Train the Model\n",
        "#Convert X_train_vec and X_val_vec to NumPy arrays if needed\n",
        "X_train_input_ids = tf.stack([x['input_ids'][0] for x in X_train_vec], axis=0)\n",
        "X_val_input_ids = tf.stack([x['input_ids'][0] for x in X_val_vec], axis=0)\n",
        "\n",
        "#ReduceLROnPlateau\n",
        "reduce_lr = ReduceLROnPlateau(monitor='val_loss', factor=0.2, patience=2, min_lr=0.00001)\n",
        "\n",
        "# Assign the output of model.fit to history\n",
        "history = model.fit(\n",
        "    X_train_input_ids, # Use the extracted token IDs\n",
        "    np.array(grouped_y_train),\n",
        "    epochs=10,  # Adjust as needed\n",
        "    batch_size=64,  # Adjust this value\n",
        "    validation_data=(X_val_input_ids, np.array(grouped_y_val)), # Use the extracted token IDs for validation\n",
        "    callbacks=[reduce_lr]  # Pass the callback here\n",
        "\n",
        ")"
      ]
    },
    {
      "cell_type": "code",
      "execution_count": 21,
      "id": "kDJ_n_cXuBV9",
      "metadata": {
        "id": "kDJ_n_cXuBV9",
        "colab": {
          "base_uri": "https://localhost:8080/"
        },
        "outputId": "83aaee9b-5427-4129-ee1e-dfcc925b196a"
      },
      "outputs": [
        {
          "output_type": "stream",
          "name": "stdout",
          "text": [
            "\u001b[1m71/71\u001b[0m \u001b[32m━━━━━━━━━━━━━━━━━━━━\u001b[0m\u001b[37m\u001b[0m \u001b[1m0s\u001b[0m 4ms/step - accuracy: 0.7566 - loss: 1.2333\n"
          ]
        }
      ],
      "source": [
        "#Evaluate the Model\n",
        "# Extract token IDs from X_val_vec\n",
        "X_val_input_ids = tf.stack([x['input_ids'][0] for x in X_val_vec], axis=0)\n",
        "\n",
        "# Now evaluate the model using the extracted token IDs\n",
        "loss, accuracy = model.evaluate(X_val_input_ids, np.array(grouped_y_val))\n",
        "#print(f\"Validation Loss: {loss:.4f}\")\n",
        "#print(f\"Validation Accuracy: {accuracy:.4f}\")"
      ]
    },
    {
      "cell_type": "code",
      "execution_count": 22,
      "id": "LwOw-pZTyrZI",
      "metadata": {
        "id": "LwOw-pZTyrZI",
        "colab": {
          "base_uri": "https://localhost:8080/",
          "height": 472
        },
        "outputId": "5c3887d0-3886-4258-c849-67d8625e49cd"
      },
      "outputs": [
        {
          "output_type": "display_data",
          "data": {
            "text/plain": [
              "<Figure size 640x480 with 1 Axes>"
            ],
            "image/png": "[encoded data removed]"
          },
          "metadata": {}
        }
      ],
      "source": [
        "import matplotlib.pyplot as plt\n",
        "\n",
        "plt.plot(history.history['accuracy'], label='Training Accuracy')\n",
        "plt.plot(history.history['val_accuracy'], label='Validation Accuracy')\n",
        "plt.xlabel('Epoch')\n",
        "plt.ylabel('Accuracy')\n",
        "plt.legend()\n",
        "plt.title('Accuracy vs. Epochs')\n",
        "plt.show()"
      ]
    },
    {
      "cell_type": "code",
      "source": [
        "plt.plot(history.history['loss'], label='Training Loss')\n",
        "plt.plot(history.history['val_loss'], label='Validation Loss')\n",
        "plt.xlabel('Epoch')\n",
        "plt.ylabel('Loss')\n",
        "plt.legend()\n",
        "plt.title('Loss vs. Epochs')\n",
        "plt.show()"
      ],
      "metadata": {
        "colab": {
          "base_uri": "https://localhost:8080/",
          "height": 472
        },
        "id": "IKNlGYGD7BJK",
        "outputId": "c807f8fa-2320-4b54-a764-bc9c6bb0f23b"
      },
      "id": "IKNlGYGD7BJK",
      "execution_count": 17,
      "outputs": [
        {
          "output_type": "display_data",
          "data": {
            "text/plain": [
              "<Figure size 640x480 with 1 Axes>"
            ],
            "image/png": "[encoded data removed]"
          },
          "metadata": {}
        }
      ]
    },
    {
      "cell_type": "code",
      "source": [
        "#Make Predictions\n",
        "predictions = model.predict(X_test_input_ids)\n",
        "\n",
        "#Convert Predictions to Class Labels\n",
        "predicted_labels = np.argmax(predictions, axis=1)\n",
        "\n",
        "#Evaluate Performance\n",
        "accuracy = accuracy_score(grouped_y_test, predicted_labels)\n",
        "print(f\"Test Accuracy: {accuracy:.4f}\")"
      ],
      "metadata": {
        "colab": {
          "base_uri": "https://localhost:8080/"
        },
        "id": "W9LMPBR5HIPt",
        "outputId": "e0191fab-a07d-4242-bced-13934d18e632"
      },
      "id": "W9LMPBR5HIPt",
      "execution_count": 18,
      "outputs": [
        {
          "output_type": "stream",
          "name": "stdout",
          "text": [
            "\u001b[1m236/236\u001b[0m \u001b[32m━━━━━━━━━━━━━━━━━━━━\u001b[0m\u001b[37m\u001b[0m \u001b[1m3s\u001b[0m 10ms/step\n",
            "Test Accuracy: 0.7484\n"
          ]
        }
      ]
    },
    {
      "cell_type": "code",
      "source": [
        "import seaborn as sns\n",
        "from sklearn.metrics import confusion_matrix\n",
        "\n",
        "# Generate confusion matrix\n",
        "cm = confusion_matrix(grouped_y_test, predicted_labels)\n",
        "\n",
        "# Plot the confusion matrix using Seaborn\n",
        "plt.figure(figsize=(10, 7))\n",
        "sns.heatmap(cm, annot=True, fmt='d', cmap='Blues',\n",
        "            xticklabels=np.unique(grouped_y_test),\n",
        "            yticklabels=np.unique(grouped_y_test))\n",
        "\n",
        "plt.xlabel('Predicted Labels')\n",
        "plt.ylabel('True Labels')\n",
        "plt.title('Confusion Matrix for Test Dataset')\n",
        "plt.show()"
      ],
      "metadata": {
        "colab": {
          "base_uri": "https://localhost:8080/",
          "height": 641
        },
        "id": "grK_yUEsw2pQ",
        "outputId": "5383963e-1605-41c1-a614-d5d4e65b9c25"
      },
      "id": "grK_yUEsw2pQ",
      "execution_count": 19,
      "outputs": [
        {
          "output_type": "display_data",
          "data": {
            "text/plain": [
              "<Figure size 1000x700 with 2 Axes>"
            ],
            "image/png": "[encoded data removed]"
          },
          "metadata": {}
        }
      ]
    }
  ],
  "metadata": {
    "accelerator": "GPU",
    "colab": {
      "gpuType": "T4",
      "provenance": []
    },
    "kernelspec": {
      "display_name": "Python 3 (CUDA)",
      "language": "python",
      "name": "cuda"
    },
    "language_info": {
      "codemirror_mode": {
        "name": "ipython",
        "version": 3
      },
      "file_extension": ".py",
      "mimetype": "text/x-python",
      "name": "python",
      "nbconvert_exporter": "python",
      "pygments_lexer": "ipython3",
      "version": "3.11.11"
    },
    "widgets": {
      "application/vnd.jupyter.widget-state+json": {
        "d25d586160b347b0b53ef95f50d95ab0": {
          "model_module": "@jupyter-widgets/controls",
          "model_name": "HBoxModel",
          "model_module_version": "1.5.0",
          "state": {
            "_dom_classes": [],
            "_model_module": "@jupyter-widgets/controls",
            "_model_module_version": "1.5.0",
            "_model_name": "HBoxModel",
            "_view_count": null,
            "_view_module": "@jupyter-widgets/controls",
            "_view_module_version": "1.5.0",
            "_view_name": "HBoxView",
            "box_style": "",
            "children": [
              "IPY_MODEL_d646326ef7a742589f4bb546219e9e48",
              "IPY_MODEL_270da9379626486dac0f8a4b2037c670",
              "IPY_MODEL_b04548714695464996ef52579938f74c"
            ],
            "layout": "IPY_MODEL_9daada2cbd32471fa17e888d342f97ee"
          }
        },
        "d646326ef7a742589f4bb546219e9e48": {
          "model_module": "@jupyter-widgets/controls",
          "model_name": "HTMLModel",
          "model_module_version": "1.5.0",
          "state": {
            "_dom_classes": [],
            "_model_module": "@jupyter-widgets/controls",
            "_model_module_version": "1.5.0",
            "_model_name": "HTMLModel",
            "_view_count": null,
            "_view_module": "@jupyter-widgets/controls",
            "_view_module_version": "1.5.0",
            "_view_name": "HTMLView",
            "description": "",
            "description_tooltip": null,
            "layout": "IPY_MODEL_ff72a2b8081844b6b1f46fc6a22a645e",
            "placeholder": "​",
            "style": "IPY_MODEL_50cc9b9d53b14cc2908abf5aa6959e65",
            "value": "tokenizer_config.json: 100%"
          }
        },
        "270da9379626486dac0f8a4b2037c670": {
          "model_module": "@jupyter-widgets/controls",
          "model_name": "FloatProgressModel",
          "model_module_version": "1.5.0",
          "state": {
            "_dom_classes": [],
            "_model_module": "@jupyter-widgets/controls",
            "_model_module_version": "1.5.0",
            "_model_name": "FloatProgressModel",
            "_view_count": null,
            "_view_module": "@jupyter-widgets/controls",
            "_view_module_version": "1.5.0",
            "_view_name": "ProgressView",
            "bar_style": "success",
            "description": "",
            "description_tooltip": null,
            "layout": "IPY_MODEL_c2fa45148cb64a4280426a552b7972be",
            "max": 48,
            "min": 0,
            "orientation": "horizontal",
            "style": "IPY_MODEL_2b058b62a80a456ea1c96e637e3e73be",
            "value": 48
          }
        },
        "b04548714695464996ef52579938f74c": {
          "model_module": "@jupyter-widgets/controls",
          "model_name": "HTMLModel",
          "model_module_version": "1.5.0",
          "state": {
            "_dom_classes": [],
            "_model_module": "@jupyter-widgets/controls",
            "_model_module_version": "1.5.0",
            "_model_name": "HTMLModel",
            "_view_count": null,
            "_view_module": "@jupyter-widgets/controls",
            "_view_module_version": "1.5.0",
            "_view_name": "HTMLView",
            "description": "",
            "description_tooltip": null,
            "layout": "IPY_MODEL_912a5b34b29f448da83f2d35232424ef",
            "placeholder": "​",
            "style": "IPY_MODEL_724b188cc00c4af3ba1dca1d2ddcdb7a",
            "value": " 48.0/48.0 [00:00&lt;00:00, 5.16kB/s]"
          }
        },
        "9daada2cbd32471fa17e888d342f97ee": {
          "model_module": "@jupyter-widgets/base",
          "model_name": "LayoutModel",
          "model_module_version": "1.2.0",
          "state": {
            "_model_module": "@jupyter-widgets/base",
            "_model_module_version": "1.2.0",
            "_model_name": "LayoutModel",
            "_view_count": null,
            "_view_module": "@jupyter-widgets/base",
            "_view_module_version": "1.2.0",
            "_view_name": "LayoutView",
            "align_content": null,
            "align_items": null,
            "align_self": null,
            "border": null,
            "bottom": null,
            "display": null,
            "flex": null,
            "flex_flow": null,
            "grid_area": null,
            "grid_auto_columns": null,
            "grid_auto_flow": null,
            "grid_auto_rows": null,
            "grid_column": null,
            "grid_gap": null,
            "grid_row": null,
            "grid_template_areas": null,
            "grid_template_columns": null,
            "grid_template_rows": null,
            "height": null,
            "justify_content": null,
            "justify_items": null,
            "left": null,
            "margin": null,
            "max_height": null,
            "max_width": null,
            "min_height": null,
            "min_width": null,
            "object_fit": null,
            "object_position": null,
            "order": null,
            "overflow": null,
            "overflow_x": null,
            "overflow_y": null,
            "padding": null,
            "right": null,
            "top": null,
            "visibility": null,
            "width": null
          }
        },
        "ff72a2b8081844b6b1f46fc6a22a645e": {
          "model_module": "@jupyter-widgets/base",
          "model_name": "LayoutModel",
          "model_module_version": "1.2.0",
          "state": {
            "_model_module": "@jupyter-widgets/base",
            "_model_module_version": "1.2.0",
            "_model_name": "LayoutModel",
            "_view_count": null,
            "_view_module": "@jupyter-widgets/base",
            "_view_module_version": "1.2.0",
            "_view_name": "LayoutView",
            "align_content": null,
            "align_items": null,
            "align_self": null,
            "border": null,
            "bottom": null,
            "display": null,
            "flex": null,
            "flex_flow": null,
            "grid_area": null,
            "grid_auto_columns": null,
            "grid_auto_flow": null,
            "grid_auto_rows": null,
            "grid_column": null,
            "grid_gap": null,
            "grid_row": null,
            "grid_template_areas": null,
            "grid_template_columns": null,
            "grid_template_rows": null,
            "height": null,
            "justify_content": null,
            "justify_items": null,
            "left": null,
            "margin": null,
            "max_height": null,
            "max_width": null,
            "min_height": null,
            "min_width": null,
            "object_fit": null,
            "object_position": null,
            "order": null,
            "overflow": null,
            "overflow_x": null,
            "overflow_y": null,
            "padding": null,
            "right": null,
            "top": null,
            "visibility": null,
            "width": null
          }
        },
        "50cc9b9d53b14cc2908abf5aa6959e65": {
          "model_module": "@jupyter-widgets/controls",
          "model_name": "DescriptionStyleModel",
          "model_module_version": "1.5.0",
          "state": {
            "_model_module": "@jupyter-widgets/controls",
            "_model_module_version": "1.5.0",
            "_model_name": "DescriptionStyleModel",
            "_view_count": null,
            "_view_module": "@jupyter-widgets/base",
            "_view_module_version": "1.2.0",
            "_view_name": "StyleView",
            "description_width": ""
          }
        },
        "c2fa45148cb64a4280426a552b7972be": {
          "model_module": "@jupyter-widgets/base",
          "model_name": "LayoutModel",
          "model_module_version": "1.2.0",
          "state": {
            "_model_module": "@jupyter-widgets/base",
            "_model_module_version": "1.2.0",
            "_model_name": "LayoutModel",
            "_view_count": null,
            "_view_module": "@jupyter-widgets/base",
            "_view_module_version": "1.2.0",
            "_view_name": "LayoutView",
            "align_content": null,
            "align_items": null,
            "align_self": null,
            "border": null,
            "bottom": null,
            "display": null,
            "flex": null,
            "flex_flow": null,
            "grid_area": null,
            "grid_auto_columns": null,
            "grid_auto_flow": null,
            "grid_auto_rows": null,
            "grid_column": null,
            "grid_gap": null,
            "grid_row": null,
            "grid_template_areas": null,
            "grid_template_columns": null,
            "grid_template_rows": null,
            "height": null,
            "justify_content": null,
            "justify_items": null,
            "left": null,
            "margin": null,
            "max_height": null,
            "max_width": null,
            "min_height": null,
            "min_width": null,
            "object_fit": null,
            "object_position": null,
            "order": null,
            "overflow": null,
            "overflow_x": null,
            "overflow_y": null,
            "padding": null,
            "right": null,
            "top": null,
            "visibility": null,
            "width": null
          }
        },
        "2b058b62a80a456ea1c96e637e3e73be": {
          "model_module": "@jupyter-widgets/controls",
          "model_name": "ProgressStyleModel",
          "model_module_version": "1.5.0",
          "state": {
            "_model_module": "@jupyter-widgets/controls",
            "_model_module_version": "1.5.0",
            "_model_name": "ProgressStyleModel",
            "_view_count": null,
            "_view_module": "@jupyter-widgets/base",
            "_view_module_version": "1.2.0",
            "_view_name": "StyleView",
            "bar_color": null,
            "description_width": ""
          }
        },
        "912a5b34b29f448da83f2d35232424ef": {
          "model_module": "@jupyter-widgets/base",
          "model_name": "LayoutModel",
          "model_module_version": "1.2.0",
          "state": {
            "_model_module": "@jupyter-widgets/base",
            "_model_module_version": "1.2.0",
            "_model_name": "LayoutModel",
            "_view_count": null,
            "_view_module": "@jupyter-widgets/base",
            "_view_module_version": "1.2.0",
            "_view_name": "LayoutView",
            "align_content": null,
            "align_items": null,
            "align_self": null,
            "border": null,
            "bottom": null,
            "display": null,
            "flex": null,
            "flex_flow": null,
            "grid_area": null,
            "grid_auto_columns": null,
            "grid_auto_flow": null,
            "grid_auto_rows": null,
            "grid_column": null,
            "grid_gap": null,
            "grid_row": null,
            "grid_template_areas": null,
            "grid_template_columns": null,
            "grid_template_rows": null,
            "height": null,
            "justify_content": null,
            "justify_items": null,
            "left": null,
            "margin": null,
            "max_height": null,
            "max_width": null,
            "min_height": null,
            "min_width": null,
            "object_fit": null,
            "object_position": null,
            "order": null,
            "overflow": null,
            "overflow_x": null,
            "overflow_y": null,
            "padding": null,
            "right": null,
            "top": null,
            "visibility": null,
            "width": null
          }
        },
        "724b188cc00c4af3ba1dca1d2ddcdb7a": {
          "model_module": "@jupyter-widgets/controls",
          "model_name": "DescriptionStyleModel",
          "model_module_version": "1.5.0",
          "state": {
            "_model_module": "@jupyter-widgets/controls",
            "_model_module_version": "1.5.0",
            "_model_name": "DescriptionStyleModel",
            "_view_count": null,
            "_view_module": "@jupyter-widgets/base",
            "_view_module_version": "1.2.0",
            "_view_name": "StyleView",
            "description_width": ""
          }
        },
        "69c12bd798394e03bc2c367eb2047451": {
          "model_module": "@jupyter-widgets/controls",
          "model_name": "HBoxModel",
          "model_module_version": "1.5.0",
          "state": {
            "_dom_classes": [],
            "_model_module": "@jupyter-widgets/controls",
            "_model_module_version": "1.5.0",
            "_model_name": "HBoxModel",
            "_view_count": null,
            "_view_module": "@jupyter-widgets/controls",
            "_view_module_version": "1.5.0",
            "_view_name": "HBoxView",
            "box_style": "",
            "children": [
              "IPY_MODEL_3657048c77164184a53ccfe7bbfa893e",
              "IPY_MODEL_39170a172ac94208aec9b7ee2046cbbf",
              "IPY_MODEL_972351e07acf48658d5b8e3f839068b5"
            ],
            "layout": "IPY_MODEL_ce88a1df560948ed92c57e3ab0250407"
          }
        },
        "3657048c77164184a53ccfe7bbfa893e": {
          "model_module": "@jupyter-widgets/controls",
          "model_name": "HTMLModel",
          "model_module_version": "1.5.0",
          "state": {
            "_dom_classes": [],
            "_model_module": "@jupyter-widgets/controls",
            "_model_module_version": "1.5.0",
            "_model_name": "HTMLModel",
            "_view_count": null,
            "_view_module": "@jupyter-widgets/controls",
            "_view_module_version": "1.5.0",
            "_view_name": "HTMLView",
            "description": "",
            "description_tooltip": null,
            "layout": "IPY_MODEL_cedc2f196d4949e3a53cc007f8c30b6a",
            "placeholder": "​",
            "style": "IPY_MODEL_03b8b839fbc74f80af96d66875ebe146",
            "value": "config.json: 100%"
          }
        },
        "39170a172ac94208aec9b7ee2046cbbf": {
          "model_module": "@jupyter-widgets/controls",
          "model_name": "FloatProgressModel",
          "model_module_version": "1.5.0",
          "state": {
            "_dom_classes": [],
            "_model_module": "@jupyter-widgets/controls",
            "_model_module_version": "1.5.0",
            "_model_name": "FloatProgressModel",
            "_view_count": null,
            "_view_module": "@jupyter-widgets/controls",
            "_view_module_version": "1.5.0",
            "_view_name": "ProgressView",
            "bar_style": "success",
            "description": "",
            "description_tooltip": null,
            "layout": "IPY_MODEL_37c31075372447bfa4d7541fc0e88940",
            "max": 570,
            "min": 0,
            "orientation": "horizontal",
            "style": "IPY_MODEL_5c84f30739114235b544bec5d8e199e0",
            "value": 570
          }
        },
        "972351e07acf48658d5b8e3f839068b5": {
          "model_module": "@jupyter-widgets/controls",
          "model_name": "HTMLModel",
          "model_module_version": "1.5.0",
          "state": {
            "_dom_classes": [],
            "_model_module": "@jupyter-widgets/controls",
            "_model_module_version": "1.5.0",
            "_model_name": "HTMLModel",
            "_view_count": null,
            "_view_module": "@jupyter-widgets/controls",
            "_view_module_version": "1.5.0",
            "_view_name": "HTMLView",
            "description": "",
            "description_tooltip": null,
            "layout": "IPY_MODEL_487bb3caa0614ba8a1df79d8edcbb62f",
            "placeholder": "​",
            "style": "IPY_MODEL_9b66ed76f2864ba39504bdefa0b6b36e",
            "value": " 570/570 [00:00&lt;00:00, 60.3kB/s]"
          }
        },
        "ce88a1df560948ed92c57e3ab0250407": {
          "model_module": "@jupyter-widgets/base",
          "model_name": "LayoutModel",
          "model_module_version": "1.2.0",
          "state": {
            "_model_module": "@jupyter-widgets/base",
            "_model_module_version": "1.2.0",
            "_model_name": "LayoutModel",
            "_view_count": null,
            "_view_module": "@jupyter-widgets/base",
            "_view_module_version": "1.2.0",
            "_view_name": "LayoutView",
            "align_content": null,
            "align_items": null,
            "align_self": null,
            "border": null,
            "bottom": null,
            "display": null,
            "flex": null,
            "flex_flow": null,
            "grid_area": null,
            "grid_auto_columns": null,
            "grid_auto_flow": null,
            "grid_auto_rows": null,
            "grid_column": null,
            "grid_gap": null,
            "grid_row": null,
            "grid_template_areas": null,
            "grid_template_columns": null,
            "grid_template_rows": null,
            "height": null,
            "justify_content": null,
            "justify_items": null,
            "left": null,
            "margin": null,
            "max_height": null,
            "max_width": null,
            "min_height": null,
            "min_width": null,
            "object_fit": null,
            "object_position": null,
            "order": null,
            "overflow": null,
            "overflow_x": null,
            "overflow_y": null,
            "padding": null,
            "right": null,
            "top": null,
            "visibility": null,
            "width": null
          }
        },
        "cedc2f196d4949e3a53cc007f8c30b6a": {
          "model_module": "@jupyter-widgets/base",
          "model_name": "LayoutModel",
          "model_module_version": "1.2.0",
          "state": {
            "_model_module": "@jupyter-widgets/base",
            "_model_module_version": "1.2.0",
            "_model_name": "LayoutModel",
            "_view_count": null,
            "_view_module": "@jupyter-widgets/base",
            "_view_module_version": "1.2.0",
            "_view_name": "LayoutView",
            "align_content": null,
            "align_items": null,
            "align_self": null,
            "border": null,
            "bottom": null,
            "display": null,
            "flex": null,
            "flex_flow": null,
            "grid_area": null,
            "grid_auto_columns": null,
            "grid_auto_flow": null,
            "grid_auto_rows": null,
            "grid_column": null,
            "grid_gap": null,
            "grid_row": null,
            "grid_template_areas": null,
            "grid_template_columns": null,
            "grid_template_rows": null,
            "height": null,
            "justify_content": null,
            "justify_items": null,
            "left": null,
            "margin": null,
            "max_height": null,
            "max_width": null,
            "min_height": null,
            "min_width": null,
            "object_fit": null,
            "object_position": null,
            "order": null,
            "overflow": null,
            "overflow_x": null,
            "overflow_y": null,
            "padding": null,
            "right": null,
            "top": null,
            "visibility": null,
            "width": null
          }
        },
        "03b8b839fbc74f80af96d66875ebe146": {
          "model_module": "@jupyter-widgets/controls",
          "model_name": "DescriptionStyleModel",
          "model_module_version": "1.5.0",
          "state": {
            "_model_module": "@jupyter-widgets/controls",
            "_model_module_version": "1.5.0",
            "_model_name": "DescriptionStyleModel",
            "_view_count": null,
            "_view_module": "@jupyter-widgets/base",
            "_view_module_version": "1.2.0",
            "_view_name": "StyleView",
            "description_width": ""
          }
        },
        "37c31075372447bfa4d7541fc0e88940": {
          "model_module": "@jupyter-widgets/base",
          "model_name": "LayoutModel",
          "model_module_version": "1.2.0",
          "state": {
            "_model_module": "@jupyter-widgets/base",
            "_model_module_version": "1.2.0",
            "_model_name": "LayoutModel",
            "_view_count": null,
            "_view_module": "@jupyter-widgets/base",
            "_view_module_version": "1.2.0",
            "_view_name": "LayoutView",
            "align_content": null,
            "align_items": null,
            "align_self": null,
            "border": null,
            "bottom": null,
            "display": null,
            "flex": null,
            "flex_flow": null,
            "grid_area": null,
            "grid_auto_columns": null,
            "grid_auto_flow": null,
            "grid_auto_rows": null,
            "grid_column": null,
            "grid_gap": null,
            "grid_row": null,
            "grid_template_areas": null,
            "grid_template_columns": null,
            "grid_template_rows": null,
            "height": null,
            "justify_content": null,
            "justify_items": null,
            "left": null,
            "margin": null,
            "max_height": null,
            "max_width": null,
            "min_height": null,
            "min_width": null,
            "object_fit": null,
            "object_position": null,
            "order": null,
            "overflow": null,
            "overflow_x": null,
            "overflow_y": null,
            "padding": null,
            "right": null,
            "top": null,
            "visibility": null,
            "width": null
          }
        },
        "5c84f30739114235b544bec5d8e199e0": {
          "model_module": "@jupyter-widgets/controls",
          "model_name": "ProgressStyleModel",
          "model_module_version": "1.5.0",
          "state": {
            "_model_module": "@jupyter-widgets/controls",
            "_model_module_version": "1.5.0",
            "_model_name": "ProgressStyleModel",
            "_view_count": null,
            "_view_module": "@jupyter-widgets/base",
            "_view_module_version": "1.2.0",
            "_view_name": "StyleView",
            "bar_color": null,
            "description_width": ""
          }
        },
        "487bb3caa0614ba8a1df79d8edcbb62f": {
          "model_module": "@jupyter-widgets/base",
          "model_name": "LayoutModel",
          "model_module_version": "1.2.0",
          "state": {
            "_model_module": "@jupyter-widgets/base",
            "_model_module_version": "1.2.0",
            "_model_name": "LayoutModel",
            "_view_count": null,
            "_view_module": "@jupyter-widgets/base",
            "_view_module_version": "1.2.0",
            "_view_name": "LayoutView",
            "align_content": null,
            "align_items": null,
            "align_self": null,
            "border": null,
            "bottom": null,
            "display": null,
            "flex": null,
            "flex_flow": null,
            "grid_area": null,
            "grid_auto_columns": null,
            "grid_auto_flow": null,
            "grid_auto_rows": null,
            "grid_column": null,
            "grid_gap": null,
            "grid_row": null,
            "grid_template_areas": null,
            "grid_template_columns": null,
            "grid_template_rows": null,
            "height": null,
            "justify_content": null,
            "justify_items": null,
            "left": null,
            "margin": null,
            "max_height": null,
            "max_width": null,
            "min_height": null,
            "min_width": null,
            "object_fit": null,
            "object_position": null,
            "order": null,
            "overflow": null,
            "overflow_x": null,
            "overflow_y": null,
            "padding": null,
            "right": null,
            "top": null,
            "visibility": null,
            "width": null
          }
        },
        "9b66ed76f2864ba39504bdefa0b6b36e": {
          "model_module": "@jupyter-widgets/controls",
          "model_name": "DescriptionStyleModel",
          "model_module_version": "1.5.0",
          "state": {
            "_model_module": "@jupyter-widgets/controls",
            "_model_module_version": "1.5.0",
            "_model_name": "DescriptionStyleModel",
            "_view_count": null,
            "_view_module": "@jupyter-widgets/base",
            "_view_module_version": "1.2.0",
            "_view_name": "StyleView",
            "description_width": ""
          }
        },
        "012bf0db4ccf4eebad232687d85c769c": {
          "model_module": "@jupyter-widgets/controls",
          "model_name": "HBoxModel",
          "model_module_version": "1.5.0",
          "state": {
            "_dom_classes": [],
            "_model_module": "@jupyter-widgets/controls",
            "_model_module_version": "1.5.0",
            "_model_name": "HBoxModel",
            "_view_count": null,
            "_view_module": "@jupyter-widgets/controls",
            "_view_module_version": "1.5.0",
            "_view_name": "HBoxView",
            "box_style": "",
            "children": [
              "IPY_MODEL_d2534a19842043688f1b29151ec3a787",
              "IPY_MODEL_8ca3a5c5f61b4ee5957400326b16e8bf",
              "IPY_MODEL_f6334d69b7b4497489345c6cc9f6903d"
            ],
            "layout": "IPY_MODEL_71f833c6de4b4b64980533b524e4f9b1"
          }
        },
        "d2534a19842043688f1b29151ec3a787": {
          "model_module": "@jupyter-widgets/controls",
          "model_name": "HTMLModel",
          "model_module_version": "1.5.0",
          "state": {
            "_dom_classes": [],
            "_model_module": "@jupyter-widgets/controls",
            "_model_module_version": "1.5.0",
            "_model_name": "HTMLModel",
            "_view_count": null,
            "_view_module": "@jupyter-widgets/controls",
            "_view_module_version": "1.5.0",
            "_view_name": "HTMLView",
            "description": "",
            "description_tooltip": null,
            "layout": "IPY_MODEL_54d7c8465eb44e869ef07bff584e8d80",
            "placeholder": "​",
            "style": "IPY_MODEL_9ac9435cae8745829ff4f45f8abc42cf",
            "value": "vocab.txt: 100%"
          }
        },
        "8ca3a5c5f61b4ee5957400326b16e8bf": {
          "model_module": "@jupyter-widgets/controls",
          "model_name": "FloatProgressModel",
          "model_module_version": "1.5.0",
          "state": {
            "_dom_classes": [],
            "_model_module": "@jupyter-widgets/controls",
            "_model_module_version": "1.5.0",
            "_model_name": "FloatProgressModel",
            "_view_count": null,
            "_view_module": "@jupyter-widgets/controls",
            "_view_module_version": "1.5.0",
            "_view_name": "ProgressView",
            "bar_style": "success",
            "description": "",
            "description_tooltip": null,
            "layout": "IPY_MODEL_7bf2c9662f04481d94873f000b21021e",
            "max": 231508,
            "min": 0,
            "orientation": "horizontal",
            "style": "IPY_MODEL_613e91f4f4404b61931d2e046064cef1",
            "value": 231508
          }
        },
        "f6334d69b7b4497489345c6cc9f6903d": {
          "model_module": "@jupyter-widgets/controls",
          "model_name": "HTMLModel",
          "model_module_version": "1.5.0",
          "state": {
            "_dom_classes": [],
            "_model_module": "@jupyter-widgets/controls",
            "_model_module_version": "1.5.0",
            "_model_name": "HTMLModel",
            "_view_count": null,
            "_view_module": "@jupyter-widgets/controls",
            "_view_module_version": "1.5.0",
            "_view_name": "HTMLView",
            "description": "",
            "description_tooltip": null,
            "layout": "IPY_MODEL_af1951ea23d243d3b7169c608d1e246b",
            "placeholder": "​",
            "style": "IPY_MODEL_545faf04ef1a46e9a86492b80fe69b27",
            "value": " 232k/232k [00:00&lt;00:00, 4.49MB/s]"
          }
        },
        "71f833c6de4b4b64980533b524e4f9b1": {
          "model_module": "@jupyter-widgets/base",
          "model_name": "LayoutModel",
          "model_module_version": "1.2.0",
          "state": {
            "_model_module": "@jupyter-widgets/base",
            "_model_module_version": "1.2.0",
            "_model_name": "LayoutModel",
            "_view_count": null,
            "_view_module": "@jupyter-widgets/base",
            "_view_module_version": "1.2.0",
            "_view_name": "LayoutView",
            "align_content": null,
            "align_items": null,
            "align_self": null,
            "border": null,
            "bottom": null,
            "display": null,
            "flex": null,
            "flex_flow": null,
            "grid_area": null,
            "grid_auto_columns": null,
            "grid_auto_flow": null,
            "grid_auto_rows": null,
            "grid_column": null,
            "grid_gap": null,
            "grid_row": null,
            "grid_template_areas": null,
            "grid_template_columns": null,
            "grid_template_rows": null,
            "height": null,
            "justify_content": null,
            "justify_items": null,
            "left": null,
            "margin": null,
            "max_height": null,
            "max_width": null,
            "min_height": null,
            "min_width": null,
            "object_fit": null,
            "object_position": null,
            "order": null,
            "overflow": null,
            "overflow_x": null,
            "overflow_y": null,
            "padding": null,
            "right": null,
            "top": null,
            "visibility": null,
            "width": null
          }
        },
        "54d7c8465eb44e869ef07bff584e8d80": {
          "model_module": "@jupyter-widgets/base",
          "model_name": "LayoutModel",
          "model_module_version": "1.2.0",
          "state": {
            "_model_module": "@jupyter-widgets/base",
            "_model_module_version": "1.2.0",
            "_model_name": "LayoutModel",
            "_view_count": null,
            "_view_module": "@jupyter-widgets/base",
            "_view_module_version": "1.2.0",
            "_view_name": "LayoutView",
            "align_content": null,
            "align_items": null,
            "align_self": null,
            "border": null,
            "bottom": null,
            "display": null,
            "flex": null,
            "flex_flow": null,
            "grid_area": null,
            "grid_auto_columns": null,
            "grid_auto_flow": null,
            "grid_auto_rows": null,
            "grid_column": null,
            "grid_gap": null,
            "grid_row": null,
            "grid_template_areas": null,
            "grid_template_columns": null,
            "grid_template_rows": null,
            "height": null,
            "justify_content": null,
            "justify_items": null,
            "left": null,
            "margin": null,
            "max_height": null,
            "max_width": null,
            "min_height": null,
            "min_width": null,
            "object_fit": null,
            "object_position": null,
            "order": null,
            "overflow": null,
            "overflow_x": null,
            "overflow_y": null,
            "padding": null,
            "right": null,
            "top": null,
            "visibility": null,
            "width": null
          }
        },
        "9ac9435cae8745829ff4f45f8abc42cf": {
          "model_module": "@jupyter-widgets/controls",
          "model_name": "DescriptionStyleModel",
          "model_module_version": "1.5.0",
          "state": {
            "_model_module": "@jupyter-widgets/controls",
            "_model_module_version": "1.5.0",
            "_model_name": "DescriptionStyleModel",
            "_view_count": null,
            "_view_module": "@jupyter-widgets/base",
            "_view_module_version": "1.2.0",
            "_view_name": "StyleView",
            "description_width": ""
          }
        },
        "7bf2c9662f04481d94873f000b21021e": {
          "model_module": "@jupyter-widgets/base",
          "model_name": "LayoutModel",
          "model_module_version": "1.2.0",
          "state": {
            "_model_module": "@jupyter-widgets/base",
            "_model_module_version": "1.2.0",
            "_model_name": "LayoutModel",
            "_view_count": null,
            "_view_module": "@jupyter-widgets/base",
            "_view_module_version": "1.2.0",
            "_view_name": "LayoutView",
            "align_content": null,
            "align_items": null,
            "align_self": null,
            "border": null,
            "bottom": null,
            "display": null,
            "flex": null,
            "flex_flow": null,
            "grid_area": null,
            "grid_auto_columns": null,
            "grid_auto_flow": null,
            "grid_auto_rows": null,
            "grid_column": null,
            "grid_gap": null,
            "grid_row": null,
            "grid_template_areas": null,
            "grid_template_columns": null,
            "grid_template_rows": null,
            "height": null,
            "justify_content": null,
            "justify_items": null,
            "left": null,
            "margin": null,
            "max_height": null,
            "max_width": null,
            "min_height": null,
            "min_width": null,
            "object_fit": null,
            "object_position": null,
            "order": null,
            "overflow": null,
            "overflow_x": null,
            "overflow_y": null,
            "padding": null,
            "right": null,
            "top": null,
            "visibility": null,
            "width": null
          }
        },
        "613e91f4f4404b61931d2e046064cef1": {
          "model_module": "@jupyter-widgets/controls",
          "model_name": "ProgressStyleModel",
          "model_module_version": "1.5.0",
          "state": {
            "_model_module": "@jupyter-widgets/controls",
            "_model_module_version": "1.5.0",
            "_model_name": "ProgressStyleModel",
            "_view_count": null,
            "_view_module": "@jupyter-widgets/base",
            "_view_module_version": "1.2.0",
            "_view_name": "StyleView",
            "bar_color": null,
            "description_width": ""
          }
        },
        "af1951ea23d243d3b7169c608d1e246b": {
          "model_module": "@jupyter-widgets/base",
          "model_name": "LayoutModel",
          "model_module_version": "1.2.0",
          "state": {
            "_model_module": "@jupyter-widgets/base",
            "_model_module_version": "1.2.0",
            "_model_name": "LayoutModel",
            "_view_count": null,
            "_view_module": "@jupyter-widgets/base",
            "_view_module_version": "1.2.0",
            "_view_name": "LayoutView",
            "align_content": null,
            "align_items": null,
            "align_self": null,
            "border": null,
            "bottom": null,
            "display": null,
            "flex": null,
            "flex_flow": null,
            "grid_area": null,
            "grid_auto_columns": null,
            "grid_auto_flow": null,
            "grid_auto_rows": null,
            "grid_column": null,
            "grid_gap": null,
            "grid_row": null,
            "grid_template_areas": null,
            "grid_template_columns": null,
            "grid_template_rows": null,
            "height": null,
            "justify_content": null,
            "justify_items": null,
            "left": null,
            "margin": null,
            "max_height": null,
            "max_width": null,
            "min_height": null,
            "min_width": null,
            "object_fit": null,
            "object_position": null,
            "order": null,
            "overflow": null,
            "overflow_x": null,
            "overflow_y": null,
            "padding": null,
            "right": null,
            "top": null,
            "visibility": null,
            "width": null
          }
        },
        "545faf04ef1a46e9a86492b80fe69b27": {
          "model_module": "@jupyter-widgets/controls",
          "model_name": "DescriptionStyleModel",
          "model_module_version": "1.5.0",
          "state": {
            "_model_module": "@jupyter-widgets/controls",
            "_model_module_version": "1.5.0",
            "_model_name": "DescriptionStyleModel",
            "_view_count": null,
            "_view_module": "@jupyter-widgets/base",
            "_view_module_version": "1.2.0",
            "_view_name": "StyleView",
            "description_width": ""
          }
        },
        "766d8e939bd74fc3b702a1109020a220": {
          "model_module": "@jupyter-widgets/controls",
          "model_name": "HBoxModel",
          "model_module_version": "1.5.0",
          "state": {
            "_dom_classes": [],
            "_model_module": "@jupyter-widgets/controls",
            "_model_module_version": "1.5.0",
            "_model_name": "HBoxModel",
            "_view_count": null,
            "_view_module": "@jupyter-widgets/controls",
            "_view_module_version": "1.5.0",
            "_view_name": "HBoxView",
            "box_style": "",
            "children": [
              "IPY_MODEL_60a12e70e9cb424badf1e5946ad59ac2",
              "IPY_MODEL_e1c2b4f332764cdb8d43d526579085ff",
              "IPY_MODEL_c85a48b8fb904d33893f63064625d9fd"
            ],
            "layout": "IPY_MODEL_48af0574905e4f5a8311edc791bf2135"
          }
        },
        "60a12e70e9cb424badf1e5946ad59ac2": {
          "model_module": "@jupyter-widgets/controls",
          "model_name": "HTMLModel",
          "model_module_version": "1.5.0",
          "state": {
            "_dom_classes": [],
            "_model_module": "@jupyter-widgets/controls",
            "_model_module_version": "1.5.0",
            "_model_name": "HTMLModel",
            "_view_count": null,
            "_view_module": "@jupyter-widgets/controls",
            "_view_module_version": "1.5.0",
            "_view_name": "HTMLView",
            "description": "",
            "description_tooltip": null,
            "layout": "IPY_MODEL_e2f56a2212ca4eccb759efe210b54ce4",
            "placeholder": "​",
            "style": "IPY_MODEL_1df00f0a5edc45ce9766c52a091bbff0",
            "value": "tokenizer.json: 100%"
          }
        },
        "e1c2b4f332764cdb8d43d526579085ff": {
          "model_module": "@jupyter-widgets/controls",
          "model_name": "FloatProgressModel",
          "model_module_version": "1.5.0",
          "state": {
            "_dom_classes": [],
            "_model_module": "@jupyter-widgets/controls",
            "_model_module_version": "1.5.0",
            "_model_name": "FloatProgressModel",
            "_view_count": null,
            "_view_module": "@jupyter-widgets/controls",
            "_view_module_version": "1.5.0",
            "_view_name": "ProgressView",
            "bar_style": "success",
            "description": "",
            "description_tooltip": null,
            "layout": "IPY_MODEL_7c1adb1a20cb443f85edef871f6ca734",
            "max": 466062,
            "min": 0,
            "orientation": "horizontal",
            "style": "IPY_MODEL_95b7f8bc60d34bf7954c399a3b29baba",
            "value": 466062
          }
        },
        "c85a48b8fb904d33893f63064625d9fd": {
          "model_module": "@jupyter-widgets/controls",
          "model_name": "HTMLModel",
          "model_module_version": "1.5.0",
          "state": {
            "_dom_classes": [],
            "_model_module": "@jupyter-widgets/controls",
            "_model_module_version": "1.5.0",
            "_model_name": "HTMLModel",
            "_view_count": null,
            "_view_module": "@jupyter-widgets/controls",
            "_view_module_version": "1.5.0",
            "_view_name": "HTMLView",
            "description": "",
            "description_tooltip": null,
            "layout": "IPY_MODEL_b0721437282049c59ba5983f99696b10",
            "placeholder": "​",
            "style": "IPY_MODEL_3790655c3d9b464cad90f7bc98be4d3c",
            "value": " 466k/466k [00:00&lt;00:00, 21.6MB/s]"
          }
        },
        "48af0574905e4f5a8311edc791bf2135": {
          "model_module": "@jupyter-widgets/base",
          "model_name": "LayoutModel",
          "model_module_version": "1.2.0",
          "state": {
            "_model_module": "@jupyter-widgets/base",
            "_model_module_version": "1.2.0",
            "_model_name": "LayoutModel",
            "_view_count": null,
            "_view_module": "@jupyter-widgets/base",
            "_view_module_version": "1.2.0",
            "_view_name": "LayoutView",
            "align_content": null,
            "align_items": null,
            "align_self": null,
            "border": null,
            "bottom": null,
            "display": null,
            "flex": null,
            "flex_flow": null,
            "grid_area": null,
            "grid_auto_columns": null,
            "grid_auto_flow": null,
            "grid_auto_rows": null,
            "grid_column": null,
            "grid_gap": null,
            "grid_row": null,
            "grid_template_areas": null,
            "grid_template_columns": null,
            "grid_template_rows": null,
            "height": null,
            "justify_content": null,
            "justify_items": null,
            "left": null,
            "margin": null,
            "max_height": null,
            "max_width": null,
            "min_height": null,
            "min_width": null,
            "object_fit": null,
            "object_position": null,
            "order": null,
            "overflow": null,
            "overflow_x": null,
            "overflow_y": null,
            "padding": null,
            "right": null,
            "top": null,
            "visibility": null,
            "width": null
          }
        },
        "e2f56a2212ca4eccb759efe210b54ce4": {
          "model_module": "@jupyter-widgets/base",
          "model_name": "LayoutModel",
          "model_module_version": "1.2.0",
          "state": {
            "_model_module": "@jupyter-widgets/base",
            "_model_module_version": "1.2.0",
            "_model_name": "LayoutModel",
            "_view_count": null,
            "_view_module": "@jupyter-widgets/base",
            "_view_module_version": "1.2.0",
            "_view_name": "LayoutView",
            "align_content": null,
            "align_items": null,
            "align_self": null,
            "border": null,
            "bottom": null,
            "display": null,
            "flex": null,
            "flex_flow": null,
            "grid_area": null,
            "grid_auto_columns": null,
            "grid_auto_flow": null,
            "grid_auto_rows": null,
            "grid_column": null,
            "grid_gap": null,
            "grid_row": null,
            "grid_template_areas": null,
            "grid_template_columns": null,
            "grid_template_rows": null,
            "height": null,
            "justify_content": null,
            "justify_items": null,
            "left": null,
            "margin": null,
            "max_height": null,
            "max_width": null,
            "min_height": null,
            "min_width": null,
            "object_fit": null,
            "object_position": null,
            "order": null,
            "overflow": null,
            "overflow_x": null,
            "overflow_y": null,
            "padding": null,
            "right": null,
            "top": null,
            "visibility": null,
            "width": null
          }
        },
        "1df00f0a5edc45ce9766c52a091bbff0": {
          "model_module": "@jupyter-widgets/controls",
          "model_name": "DescriptionStyleModel",
          "model_module_version": "1.5.0",
          "state": {
            "_model_module": "@jupyter-widgets/controls",
            "_model_module_version": "1.5.0",
            "_model_name": "DescriptionStyleModel",
            "_view_count": null,
            "_view_module": "@jupyter-widgets/base",
            "_view_module_version": "1.2.0",
            "_view_name": "StyleView",
            "description_width": ""
          }
        },
        "7c1adb1a20cb443f85edef871f6ca734": {
          "model_module": "@jupyter-widgets/base",
          "model_name": "LayoutModel",
          "model_module_version": "1.2.0",
          "state": {
            "_model_module": "@jupyter-widgets/base",
            "_model_module_version": "1.2.0",
            "_model_name": "LayoutModel",
            "_view_count": null,
            "_view_module": "@jupyter-widgets/base",
            "_view_module_version": "1.2.0",
            "_view_name": "LayoutView",
            "align_content": null,
            "align_items": null,
            "align_self": null,
            "border": null,
            "bottom": null,
            "display": null,
            "flex": null,
            "flex_flow": null,
            "grid_area": null,
            "grid_auto_columns": null,
            "grid_auto_flow": null,
            "grid_auto_rows": null,
            "grid_column": null,
            "grid_gap": null,
            "grid_row": null,
            "grid_template_areas": null,
            "grid_template_columns": null,
            "grid_template_rows": null,
            "height": null,
            "justify_content": null,
            "justify_items": null,
            "left": null,
            "margin": null,
            "max_height": null,
            "max_width": null,
            "min_height": null,
            "min_width": null,
            "object_fit": null,
            "object_position": null,
            "order": null,
            "overflow": null,
            "overflow_x": null,
            "overflow_y": null,
            "padding": null,
            "right": null,
            "top": null,
            "visibility": null,
            "width": null
          }
        },
        "95b7f8bc60d34bf7954c399a3b29baba": {
          "model_module": "@jupyter-widgets/controls",
          "model_name": "ProgressStyleModel",
          "model_module_version": "1.5.0",
          "state": {
            "_model_module": "@jupyter-widgets/controls",
            "_model_module_version": "1.5.0",
            "_model_name": "ProgressStyleModel",
            "_view_count": null,
            "_view_module": "@jupyter-widgets/base",
            "_view_module_version": "1.2.0",
            "_view_name": "StyleView",
            "bar_color": null,
            "description_width": ""
          }
        },
        "b0721437282049c59ba5983f99696b10": {
          "model_module": "@jupyter-widgets/base",
          "model_name": "LayoutModel",
          "model_module_version": "1.2.0",
          "state": {
            "_model_module": "@jupyter-widgets/base",
            "_model_module_version": "1.2.0",
            "_model_name": "LayoutModel",
            "_view_count": null,
            "_view_module": "@jupyter-widgets/base",
            "_view_module_version": "1.2.0",
            "_view_name": "LayoutView",
            "align_content": null,
            "align_items": null,
            "align_self": null,
            "border": null,
            "bottom": null,
            "display": null,
            "flex": null,
            "flex_flow": null,
            "grid_area": null,
            "grid_auto_columns": null,
            "grid_auto_flow": null,
            "grid_auto_rows": null,
            "grid_column": null,
            "grid_gap": null,
            "grid_row": null,
            "grid_template_areas": null,
            "grid_template_columns": null,
            "grid_template_rows": null,
            "height": null,
            "justify_content": null,
            "justify_items": null,
            "left": null,
            "margin": null,
            "max_height": null,
            "max_width": null,
            "min_height": null,
            "min_width": null,
            "object_fit": null,
            "object_position": null,
            "order": null,
            "overflow": null,
            "overflow_x": null,
            "overflow_y": null,
            "padding": null,
            "right": null,
            "top": null,
            "visibility": null,
            "width": null
          }
        },
        "3790655c3d9b464cad90f7bc98be4d3c": {
          "model_module": "@jupyter-widgets/controls",
          "model_name": "DescriptionStyleModel",
          "model_module_version": "1.5.0",
          "state": {
            "_model_module": "@jupyter-widgets/controls",
            "_model_module_version": "1.5.0",
            "_model_name": "DescriptionStyleModel",
            "_view_count": null,
            "_view_module": "@jupyter-widgets/base",
            "_view_module_version": "1.2.0",
            "_view_name": "StyleView",
            "description_width": ""
          }
        }
      }
    }
  },
  "nbformat": 4,
  "nbformat_minor": 5
}